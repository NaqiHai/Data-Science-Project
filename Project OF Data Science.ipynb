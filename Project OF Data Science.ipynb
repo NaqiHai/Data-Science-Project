{
 "cells": [
  {
   "cell_type": "markdown",
   "id": "4e12dab0",
   "metadata": {},
   "source": [
    "# Information About Working\n"
   ]
  },
  {
   "cell_type": "markdown",
   "id": "6a2c561d",
   "metadata": {},
   "source": [
    "The Data set which used is Sindh-School-Enrollment-Stats after seen it with quite detail and try to find the best usefull data\n",
    "from It I have decided to use it to predicte the number of teacher required for a gaven amount of students and institution. I have tried to explain the working and did my best to perform all the task"
   ]
  },
  {
   "cell_type": "code",
   "execution_count": 1,
   "id": "f0b84ca4",
   "metadata": {},
   "outputs": [],
   "source": [
    "import pandas as pd\n",
    "import matplotlib.pyplot as plt\n",
    "import seaborn as sns\n",
    "import numpy as np # all the required libaries are Imported for working "
   ]
  },
  {
   "cell_type": "code",
   "execution_count": 2,
   "id": "6918d78b",
   "metadata": {},
   "outputs": [
    {
     "data": {
      "text/html": [
       "<div>\n",
       "<style scoped>\n",
       "    .dataframe tbody tr th:only-of-type {\n",
       "        vertical-align: middle;\n",
       "    }\n",
       "\n",
       "    .dataframe tbody tr th {\n",
       "        vertical-align: top;\n",
       "    }\n",
       "\n",
       "    .dataframe thead th {\n",
       "        text-align: right;\n",
       "    }\n",
       "</style>\n",
       "<table border=\"1\" class=\"dataframe\">\n",
       "  <thead>\n",
       "    <tr style=\"text-align: right;\">\n",
       "      <th></th>\n",
       "      <th>District</th>\n",
       "      <th>Location</th>\n",
       "      <th>School Type</th>\n",
       "      <th>Category</th>\n",
       "      <th>Composition</th>\n",
       "      <th>Number</th>\n",
       "      <th>Population</th>\n",
       "      <th>No/100000</th>\n",
       "    </tr>\n",
       "  </thead>\n",
       "  <tbody>\n",
       "    <tr>\n",
       "      <th>0</th>\n",
       "      <td>Badin</td>\n",
       "      <td>Urban</td>\n",
       "      <td>Primary</td>\n",
       "      <td>INSTITUTIONS</td>\n",
       "      <td>TOTAL</td>\n",
       "      <td>168</td>\n",
       "      <td>1,804,516</td>\n",
       "      <td>9.309976</td>\n",
       "    </tr>\n",
       "    <tr>\n",
       "      <th>1</th>\n",
       "      <td>Badin</td>\n",
       "      <td>Urban</td>\n",
       "      <td>Primary</td>\n",
       "      <td>INSTITUTIONS</td>\n",
       "      <td>MALE</td>\n",
       "      <td>30</td>\n",
       "      <td>1,804,516</td>\n",
       "      <td>1.662496</td>\n",
       "    </tr>\n",
       "    <tr>\n",
       "      <th>2</th>\n",
       "      <td>Badin</td>\n",
       "      <td>Urban</td>\n",
       "      <td>Primary</td>\n",
       "      <td>INSTITUTIONS</td>\n",
       "      <td>FEMALE</td>\n",
       "      <td>27</td>\n",
       "      <td>1,804,516</td>\n",
       "      <td>1.496246</td>\n",
       "    </tr>\n",
       "    <tr>\n",
       "      <th>3</th>\n",
       "      <td>Badin</td>\n",
       "      <td>Urban</td>\n",
       "      <td>Primary</td>\n",
       "      <td>INSTITUTIONS</td>\n",
       "      <td>MIXED</td>\n",
       "      <td>111</td>\n",
       "      <td>1,804,516</td>\n",
       "      <td>6.151234</td>\n",
       "    </tr>\n",
       "    <tr>\n",
       "      <th>4</th>\n",
       "      <td>Badin</td>\n",
       "      <td>Urban</td>\n",
       "      <td>Primary</td>\n",
       "      <td>ENROLMENT</td>\n",
       "      <td>TOTAL</td>\n",
       "      <td>16446</td>\n",
       "      <td>1,804,516</td>\n",
       "      <td>911.380115</td>\n",
       "    </tr>\n",
       "  </tbody>\n",
       "</table>\n",
       "</div>"
      ],
      "text/plain": [
       "  District Location School Type      Category Composition  Number Population  \\\n",
       "0    Badin    Urban     Primary  INSTITUTIONS       TOTAL     168  1,804,516   \n",
       "1    Badin    Urban     Primary  INSTITUTIONS        MALE      30  1,804,516   \n",
       "2    Badin    Urban     Primary  INSTITUTIONS      FEMALE      27  1,804,516   \n",
       "3    Badin    Urban     Primary  INSTITUTIONS       MIXED     111  1,804,516   \n",
       "4    Badin    Urban     Primary     ENROLMENT       TOTAL   16446  1,804,516   \n",
       "\n",
       "    No/100000  \n",
       "0    9.309976  \n",
       "1    1.662496  \n",
       "2    1.496246  \n",
       "3    6.151234  \n",
       "4  911.380115  "
      ]
     },
     "execution_count": 2,
     "metadata": {},
     "output_type": "execute_result"
    }
   ],
   "source": [
    "df = pd.read_csv('Downloads//sindh-school-enrollment-stats.csv')# 1 panda function used\n",
    "df.head()"
   ]
  },
  {
   "cell_type": "markdown",
   "id": "98313072",
   "metadata": {},
   "source": [
    "Now We start cleaning and removing all the data which is not requried for prediction ."
   ]
  },
  {
   "cell_type": "code",
   "execution_count": 3,
   "id": "3b78fe39",
   "metadata": {},
   "outputs": [],
   "source": [
    "df1 = df.drop(['Population', 'No/100000'], axis=1)#2 function is used of panda"
   ]
  },
  {
   "cell_type": "code",
   "execution_count": 4,
   "id": "3770339d",
   "metadata": {},
   "outputs": [
    {
     "data": {
      "text/html": [
       "<div>\n",
       "<style scoped>\n",
       "    .dataframe tbody tr th:only-of-type {\n",
       "        vertical-align: middle;\n",
       "    }\n",
       "\n",
       "    .dataframe tbody tr th {\n",
       "        vertical-align: top;\n",
       "    }\n",
       "\n",
       "    .dataframe thead th {\n",
       "        text-align: right;\n",
       "    }\n",
       "</style>\n",
       "<table border=\"1\" class=\"dataframe\">\n",
       "  <thead>\n",
       "    <tr style=\"text-align: right;\">\n",
       "      <th></th>\n",
       "      <th>District</th>\n",
       "      <th>Location</th>\n",
       "      <th>School Type</th>\n",
       "      <th>Category</th>\n",
       "      <th>Composition</th>\n",
       "      <th>Number</th>\n",
       "    </tr>\n",
       "  </thead>\n",
       "  <tbody>\n",
       "    <tr>\n",
       "      <th>0</th>\n",
       "      <td>Badin</td>\n",
       "      <td>Urban</td>\n",
       "      <td>Primary</td>\n",
       "      <td>INSTITUTIONS</td>\n",
       "      <td>TOTAL</td>\n",
       "      <td>168</td>\n",
       "    </tr>\n",
       "    <tr>\n",
       "      <th>1</th>\n",
       "      <td>Badin</td>\n",
       "      <td>Urban</td>\n",
       "      <td>Primary</td>\n",
       "      <td>INSTITUTIONS</td>\n",
       "      <td>MALE</td>\n",
       "      <td>30</td>\n",
       "    </tr>\n",
       "    <tr>\n",
       "      <th>2</th>\n",
       "      <td>Badin</td>\n",
       "      <td>Urban</td>\n",
       "      <td>Primary</td>\n",
       "      <td>INSTITUTIONS</td>\n",
       "      <td>FEMALE</td>\n",
       "      <td>27</td>\n",
       "    </tr>\n",
       "    <tr>\n",
       "      <th>3</th>\n",
       "      <td>Badin</td>\n",
       "      <td>Urban</td>\n",
       "      <td>Primary</td>\n",
       "      <td>INSTITUTIONS</td>\n",
       "      <td>MIXED</td>\n",
       "      <td>111</td>\n",
       "    </tr>\n",
       "    <tr>\n",
       "      <th>4</th>\n",
       "      <td>Badin</td>\n",
       "      <td>Urban</td>\n",
       "      <td>Primary</td>\n",
       "      <td>ENROLMENT</td>\n",
       "      <td>TOTAL</td>\n",
       "      <td>16446</td>\n",
       "    </tr>\n",
       "  </tbody>\n",
       "</table>\n",
       "</div>"
      ],
      "text/plain": [
       "  District Location School Type      Category Composition  Number\n",
       "0    Badin    Urban     Primary  INSTITUTIONS       TOTAL     168\n",
       "1    Badin    Urban     Primary  INSTITUTIONS        MALE      30\n",
       "2    Badin    Urban     Primary  INSTITUTIONS      FEMALE      27\n",
       "3    Badin    Urban     Primary  INSTITUTIONS       MIXED     111\n",
       "4    Badin    Urban     Primary     ENROLMENT       TOTAL   16446"
      ]
     },
     "execution_count": 4,
     "metadata": {},
     "output_type": "execute_result"
    }
   ],
   "source": [
    "df1.head()"
   ]
  },
  {
   "cell_type": "code",
   "execution_count": 5,
   "id": "6c6c6592",
   "metadata": {},
   "outputs": [],
   "source": [
    "A_filter = (df1['Category'] == 'INSTITUTIONS') & (df1['Composition'] == 'TOTAL')\n",
    "df2 = df1[A_filter]\n",
    "s=np. arange(348)#1 numpy function used\n",
    "df2.set_index(s, inplace=True)"
   ]
  },
  {
   "cell_type": "code",
   "execution_count": 6,
   "id": "6289bf6d",
   "metadata": {},
   "outputs": [],
   "source": [
    "A_filter = (df1['Category'] == 'TEACHING STAFF') & (df1['Composition'] == 'TOTAL')\n",
    "df3 = df1[A_filter]\n",
    "df3.set_index(s, inplace=True)\n"
   ]
  },
  {
   "cell_type": "code",
   "execution_count": 7,
   "id": "b21f58b1",
   "metadata": {},
   "outputs": [],
   "source": [
    "A_filter = (df1['Category'] == 'ENROLMENT') & (df1['Composition'] == 'TOTAL')\n",
    "df4 = df1[A_filter]\n",
    "df4.set_index(s, inplace=True)\n"
   ]
  },
  {
   "cell_type": "code",
   "execution_count": 8,
   "id": "905b07f8",
   "metadata": {},
   "outputs": [
    {
     "name": "stdout",
     "output_type": "stream",
     "text": [
      "  District Location\n",
      "0    Badin    Urban\n",
      "1    Badin    Urban\n",
      "2    Badin    Urban\n",
      "3    Badin    Urban\n",
      "4    Badin    Urban\n"
     ]
    }
   ],
   "source": [
    "df5 = df1.drop(['Category', 'Composition', 'Number','School Type'], axis=1)\n",
    "print(df5.head())\n",
    "\n",
    "df5['INSTITUTION'] = df2['Number']\n",
    "df5['TEACHING'] = df3['Number']\n",
    "df5['ENROLLMENTS'] = df4['Number']\n",
    "#droping columns and adding the required onces"
   ]
  },
  {
   "cell_type": "code",
   "execution_count": 9,
   "id": "63de91ae",
   "metadata": {},
   "outputs": [
    {
     "data": {
      "text/html": [
       "<div>\n",
       "<style scoped>\n",
       "    .dataframe tbody tr th:only-of-type {\n",
       "        vertical-align: middle;\n",
       "    }\n",
       "\n",
       "    .dataframe tbody tr th {\n",
       "        vertical-align: top;\n",
       "    }\n",
       "\n",
       "    .dataframe thead th {\n",
       "        text-align: right;\n",
       "    }\n",
       "</style>\n",
       "<table border=\"1\" class=\"dataframe\">\n",
       "  <thead>\n",
       "    <tr style=\"text-align: right;\">\n",
       "      <th></th>\n",
       "      <th>District</th>\n",
       "      <th>Location</th>\n",
       "      <th>INSTITUTION</th>\n",
       "      <th>TEACHING</th>\n",
       "      <th>ENROLLMENTS</th>\n",
       "    </tr>\n",
       "  </thead>\n",
       "  <tbody>\n",
       "    <tr>\n",
       "      <th>0</th>\n",
       "      <td>Badin</td>\n",
       "      <td>Urban</td>\n",
       "      <td>168.0</td>\n",
       "      <td>550.0</td>\n",
       "      <td>16446.0</td>\n",
       "    </tr>\n",
       "    <tr>\n",
       "      <th>1</th>\n",
       "      <td>Badin</td>\n",
       "      <td>Urban</td>\n",
       "      <td>10.0</td>\n",
       "      <td>47.0</td>\n",
       "      <td>973.0</td>\n",
       "    </tr>\n",
       "    <tr>\n",
       "      <th>2</th>\n",
       "      <td>Badin</td>\n",
       "      <td>Urban</td>\n",
       "      <td>8.0</td>\n",
       "      <td>380.0</td>\n",
       "      <td>10738.0</td>\n",
       "    </tr>\n",
       "    <tr>\n",
       "      <th>3</th>\n",
       "      <td>Badin</td>\n",
       "      <td>Urban</td>\n",
       "      <td>7.0</td>\n",
       "      <td>288.0</td>\n",
       "      <td>8901.0</td>\n",
       "    </tr>\n",
       "    <tr>\n",
       "      <th>4</th>\n",
       "      <td>Badin</td>\n",
       "      <td>Urban</td>\n",
       "      <td>2595.0</td>\n",
       "      <td>3706.0</td>\n",
       "      <td>123716.0</td>\n",
       "    </tr>\n",
       "  </tbody>\n",
       "</table>\n",
       "</div>"
      ],
      "text/plain": [
       "  District Location  INSTITUTION  TEACHING  ENROLLMENTS\n",
       "0    Badin    Urban        168.0     550.0      16446.0\n",
       "1    Badin    Urban         10.0      47.0        973.0\n",
       "2    Badin    Urban          8.0     380.0      10738.0\n",
       "3    Badin    Urban          7.0     288.0       8901.0\n",
       "4    Badin    Urban       2595.0    3706.0     123716.0"
      ]
     },
     "execution_count": 9,
     "metadata": {},
     "output_type": "execute_result"
    }
   ],
   "source": [
    "df5.head()"
   ]
  },
  {
   "cell_type": "code",
   "execution_count": 10,
   "id": "a290c413",
   "metadata": {},
   "outputs": [],
   "source": [
    "df6=df5.dropna(how='any')# final datafram which is going to be used to apply the graphics and models"
   ]
  },
  {
   "cell_type": "code",
   "execution_count": 11,
   "id": "c60c0028",
   "metadata": {},
   "outputs": [
    {
     "data": {
      "text/html": [
       "<div>\n",
       "<style scoped>\n",
       "    .dataframe tbody tr th:only-of-type {\n",
       "        vertical-align: middle;\n",
       "    }\n",
       "\n",
       "    .dataframe tbody tr th {\n",
       "        vertical-align: top;\n",
       "    }\n",
       "\n",
       "    .dataframe thead th {\n",
       "        text-align: right;\n",
       "    }\n",
       "</style>\n",
       "<table border=\"1\" class=\"dataframe\">\n",
       "  <thead>\n",
       "    <tr style=\"text-align: right;\">\n",
       "      <th></th>\n",
       "      <th>District</th>\n",
       "      <th>Location</th>\n",
       "      <th>INSTITUTION</th>\n",
       "      <th>TEACHING</th>\n",
       "      <th>ENROLLMENTS</th>\n",
       "    </tr>\n",
       "  </thead>\n",
       "  <tbody>\n",
       "    <tr>\n",
       "      <th>0</th>\n",
       "      <td>Badin</td>\n",
       "      <td>Urban</td>\n",
       "      <td>168.0</td>\n",
       "      <td>550.0</td>\n",
       "      <td>16446.0</td>\n",
       "    </tr>\n",
       "    <tr>\n",
       "      <th>1</th>\n",
       "      <td>Badin</td>\n",
       "      <td>Urban</td>\n",
       "      <td>10.0</td>\n",
       "      <td>47.0</td>\n",
       "      <td>973.0</td>\n",
       "    </tr>\n",
       "    <tr>\n",
       "      <th>2</th>\n",
       "      <td>Badin</td>\n",
       "      <td>Urban</td>\n",
       "      <td>8.0</td>\n",
       "      <td>380.0</td>\n",
       "      <td>10738.0</td>\n",
       "    </tr>\n",
       "    <tr>\n",
       "      <th>3</th>\n",
       "      <td>Badin</td>\n",
       "      <td>Urban</td>\n",
       "      <td>7.0</td>\n",
       "      <td>288.0</td>\n",
       "      <td>8901.0</td>\n",
       "    </tr>\n",
       "    <tr>\n",
       "      <th>4</th>\n",
       "      <td>Badin</td>\n",
       "      <td>Urban</td>\n",
       "      <td>2595.0</td>\n",
       "      <td>3706.0</td>\n",
       "      <td>123716.0</td>\n",
       "    </tr>\n",
       "  </tbody>\n",
       "</table>\n",
       "</div>"
      ],
      "text/plain": [
       "  District Location  INSTITUTION  TEACHING  ENROLLMENTS\n",
       "0    Badin    Urban        168.0     550.0      16446.0\n",
       "1    Badin    Urban         10.0      47.0        973.0\n",
       "2    Badin    Urban          8.0     380.0      10738.0\n",
       "3    Badin    Urban          7.0     288.0       8901.0\n",
       "4    Badin    Urban       2595.0    3706.0     123716.0"
      ]
     },
     "execution_count": 11,
     "metadata": {},
     "output_type": "execute_result"
    }
   ],
   "source": [
    "df6.head()"
   ]
  },
  {
   "cell_type": "markdown",
   "id": "836d403c",
   "metadata": {},
   "source": [
    "# Matplotlib"
   ]
  },
  {
   "cell_type": "code",
   "execution_count": 12,
   "id": "e35dcce8",
   "metadata": {},
   "outputs": [
    {
     "data": {
      "image/png": "[encoded data removed]",
      "text/plain": [
       "<Figure size 432x288 with 1 Axes>"
      ]
     },
     "metadata": {
      "needs_background": "light"
     },
     "output_type": "display_data"
    }
   ],
   "source": [
    "xaxis=df6['INSTITUTION']\n",
    "yaxis=df6['ENROLLMENTS']\n",
    "plt.plot(yaxis, xaxis)\n",
    "plt.show()\n"
   ]
  },
  {
   "cell_type": "code",
   "execution_count": 13,
   "id": "84e35ec3",
   "metadata": {},
   "outputs": [
    {
     "data": {
      "image/png": "[encoded data removed]",
      "text/plain": [
       "<Figure size 432x288 with 1 Axes>"
      ]
     },
     "metadata": {
      "needs_background": "light"
     },
     "output_type": "display_data"
    }
   ],
   "source": [
    "plt.xlabel('Institution')\n",
    "plt.ylabel('ENROLLMENTS')\n",
    "plt.scatter(df6.INSTITUTION, df6.ENROLLMENTS, color='red', marker='+')\n",
    "plt.show()"
   ]
  },
  {
   "cell_type": "code",
   "execution_count": 14,
   "id": "fd8a5c30",
   "metadata": {},
   "outputs": [
    {
     "data": {
      "image/png": "[encoded data removed]",
      "text/plain": [
       "<Figure size 432x288 with 1 Axes>"
      ]
     },
     "metadata": {},
     "output_type": "display_data"
    }
   ],
   "source": [
    "y = df6['TEACHING'].sum()\n",
    "x= df6['ENROLLMENTS'].sum()\n",
    "z= df6['INSTITUTION'].sum()\n",
    "t=np.array([y,x,z])#numpy second function is used \n",
    "mylabels = [\"INSTITUTION\", \"ENROLLMENTS\", \"TEACHER\",]\n",
    "\n",
    "plt.pie(t,labels=mylabels)\n",
    "plt.show() "
   ]
  },
  {
   "cell_type": "code",
   "execution_count": 15,
   "id": "d8b31a97",
   "metadata": {},
   "outputs": [
    {
     "data": {
      "image/png": "[encoded data removed]",
      "text/plain": [
       "<Figure size 432x288 with 1 Axes>"
      ]
     },
     "metadata": {
      "needs_background": "light"
     },
     "output_type": "display_data"
    }
   ],
   "source": [
    "y = df6['TEACHING'].sum()\n",
    "x= df6['ENROLLMENTS'].sum()\n",
    "z= df6['INSTITUTION'].sum()\n",
    "t=np.array([y,x,z])\n",
    "plt.hist(t)\n",
    "plt.show() "
   ]
  },
  {
   "cell_type": "code",
   "execution_count": 62,
   "id": "5c55fba6",
   "metadata": {},
   "outputs": [
    {
     "data": {
      "text/plain": [
       "array([0, 0, 1, 1, 1, 0, 0, 0, 1, 1, 0, 0, 1, 0, 1, 1, 1, 1, 0, 1, 1, 1,\n",
       "       0, 0, 0, 1, 1, 1, 0, 1, 1, 0, 0, 1, 1, 1, 0, 1, 1, 0, 1, 0, 1, 0,\n",
       "       0, 0, 1, 0, 0, 1, 1, 1, 0, 1, 1, 0, 0, 0, 1, 0, 0, 1, 0, 0, 0, 1,\n",
       "       1, 1, 0, 0, 1, 0, 1, 0, 1, 0, 0, 1, 0, 0, 0, 0, 0, 1, 0, 0, 1, 1,\n",
       "       0, 1, 1, 0, 0, 1, 0, 1, 1, 1, 1, 0])"
      ]
     },
     "execution_count": 62,
     "metadata": {},
     "output_type": "execute_result"
    }
   ],
   "source": [
    "mean=np.mean(y)#3 Function of numpy\n",
    "y"
   ]
  },
  {
   "cell_type": "code",
   "execution_count": 16,
   "id": "2c51b104",
   "metadata": {},
   "outputs": [
    {
     "data": {
      "image/png": "[encoded data removed]",
      "text/plain": [
       "<Figure size 432x288 with 1 Axes>"
      ]
     },
     "metadata": {
      "needs_background": "light"
     },
     "output_type": "display_data"
    }
   ],
   "source": [
    "y = df6['TEACHING'].sum()\n",
    "x= df6['ENROLLMENTS'].sum()\n",
    "z= df6['INSTITUTION'].sum()\n",
    "t=np.array([y,x,z])#numpy second function is used \n",
    "mylabels = [\"INSTITUTION\", \"ENROLLMENTS\", \"TEACHER\",]\n",
    "plt.barh(mylabels, t,color = \"#4CAF50\")\n",
    "plt.show()"
   ]
  },
  {
   "cell_type": "markdown",
   "id": "8ad4fa61",
   "metadata": {},
   "source": [
    "# SEABORN"
   ]
  },
  {
   "cell_type": "code",
   "execution_count": 17,
   "id": "70092022",
   "metadata": {},
   "outputs": [
    {
     "data": {
      "text/plain": [
       "<seaborn.axisgrid.PairGrid at 0x28ea5ed5cd0>"
      ]
     },
     "execution_count": 17,
     "metadata": {},
     "output_type": "execute_result"
    },
    {
     "data": {
      "image/png": "[encoded data removed]",
      "text/plain": [
       "<Figure size 540x540 with 12 Axes>"
      ]
     },
     "metadata": {
      "needs_background": "light"
     },
     "output_type": "display_data"
    }
   ],
   "source": [
    "sns.pairplot(df6)#this has 9 and 2 are more gaven so it makes 11"
   ]
  },
  {
   "cell_type": "code",
   "execution_count": 18,
   "id": "1041814d",
   "metadata": {},
   "outputs": [
    {
     "data": {
      "text/plain": [
       "<seaborn.axisgrid.JointGrid at 0x28ea5d58880>"
      ]
     },
     "execution_count": 18,
     "metadata": {},
     "output_type": "execute_result"
    },
    {
     "data": {
      "image/png": "[encoded data removed]",
      "text/plain": [
       "<Figure size 432x432 with 3 Axes>"
      ]
     },
     "metadata": {
      "needs_background": "light"
     },
     "output_type": "display_data"
    }
   ],
   "source": [
    "sns.jointplot(x = df6['INSTITUTION'], y = df6['ENROLLMENTS'], kind = 'scatter')"
   ]
  },
  {
   "cell_type": "code",
   "execution_count": 19,
   "id": "2274a184",
   "metadata": {},
   "outputs": [
    {
     "name": "stderr",
     "output_type": "stream",
     "text": [
      "D:\\ProgramData\\anaconda3\\lib\\site-packages\\seaborn\\distributions.py:2619: FutureWarning: `distplot` is a deprecated function and will be removed in a future version. Please adapt your code to use either `displot` (a figure-level function with similar flexibility) or `histplot` (an axes-level function for histograms).\n",
      "  warnings.warn(msg, FutureWarning)\n"
     ]
    },
    {
     "data": {
      "text/plain": [
       "<AxesSubplot:ylabel='Density'>"
      ]
     },
     "execution_count": 19,
     "metadata": {},
     "output_type": "execute_result"
    },
    {
     "data": {
      "image/png": "[encoded data removed]",
      "text/plain": [
       "<Figure size 432x288 with 1 Axes>"
      ]
     },
     "metadata": {
      "needs_background": "light"
     },
     "output_type": "display_data"
    }
   ],
   "source": [
    "sns.distplot(x = df6['TEACHING'], bins = 10)"
   ]
  },
  {
   "cell_type": "code",
   "execution_count": 20,
   "id": "f357cf2d",
   "metadata": {},
   "outputs": [
    {
     "data": {
      "text/plain": [
       "array([[789.94627146]])"
      ]
     },
     "execution_count": 20,
     "metadata": {},
     "output_type": "execute_result"
    }
   ],
   "source": [
    "from sklearn import linear_model\n",
    "\n",
    "lr= linear_model.LinearRegression()\n",
    "X=df6.iloc[:,2].values.reshape(-1,1)\n",
    "Y=df6.iloc[:,3].values.reshape(-1,1)\n",
    "lr.fit(X,Y)\n",
    "a = lr.predict([[200]])\n",
    "a\n"
   ]
  },
  {
   "cell_type": "markdown",
   "id": "46312c6d",
   "metadata": {},
   "source": [
    "# Multi Regression"
   ]
  },
  {
   "cell_type": "code",
   "execution_count": 21,
   "id": "0110293e",
   "metadata": {},
   "outputs": [],
   "source": [
    "X=df6.drop(['District','Location','TEACHING'],axis=1)\n",
    "Y=df6['TEACHING']"
   ]
  },
  {
   "cell_type": "code",
   "execution_count": 22,
   "id": "96e3a924",
   "metadata": {},
   "outputs": [
    {
     "data": {
      "text/plain": [
       "LinearRegression()"
      ]
     },
     "execution_count": 22,
     "metadata": {},
     "output_type": "execute_result"
    }
   ],
   "source": [
    "lr.fit(X,Y)"
   ]
  },
  {
   "cell_type": "code",
   "execution_count": 23,
   "id": "ef6482a7",
   "metadata": {},
   "outputs": [
    {
     "data": {
      "text/plain": [
       "106.66561112182376"
      ]
     },
     "execution_count": 23,
     "metadata": {},
     "output_type": "execute_result"
    }
   ],
   "source": [
    "c=lr.intercept_\n",
    "c"
   ]
  },
  {
   "cell_type": "code",
   "execution_count": 24,
   "id": "1ff6cbac",
   "metadata": {},
   "outputs": [
    {
     "data": {
      "text/plain": [
       "array([-0.09188168,  0.03218664])"
      ]
     },
     "execution_count": 24,
     "metadata": {},
     "output_type": "execute_result"
    }
   ],
   "source": [
    "m=lr.coef_\n",
    "m"
   ]
  },
  {
   "cell_type": "code",
   "execution_count": 25,
   "id": "68b020e1",
   "metadata": {},
   "outputs": [],
   "source": [
    "result=lr.predict(X)\n"
   ]
  },
  {
   "cell_type": "code",
   "execution_count": 26,
   "id": "c6e7f4e5",
   "metadata": {},
   "outputs": [
    {
     "data": {
      "text/plain": [
       "array([ 620.57090989,  137.06439147,  451.55065828,  392.51568907,\n",
       "       3850.23455469,  405.10739568,  809.76845602,  197.38158691,\n",
       "       4364.13985346,  435.50617603, 1154.65350317,  483.23166486,\n",
       "       1022.22757363,  157.81073718,  554.96688169,  226.83703735,\n",
       "       4182.47967075,  425.80471515,  884.71298001,  406.02060261,\n",
       "       5098.04163326,  476.94984121, 1333.01425058,  526.19202884,\n",
       "       1361.42961078,  679.37571414, 1497.80870646,  664.20364706,\n",
       "       1094.09339015,  261.63247414,  335.62375079,  227.21392052,\n",
       "       2348.85738981,  834.34257716, 1726.76684613,  784.75195646,\n",
       "        266.99472968,  108.90052372,  211.62679308,  138.08444638,\n",
       "       1710.28292024,  194.87851243,  395.91100353,  196.97719533,\n",
       "       1870.6120388 ,  197.11342503,  500.87218549,  228.39603059,\n",
       "        355.71981224,  162.20627166,  315.04713374,  457.14645476,\n",
       "       1352.47253961,  264.73174769,  556.00733248,  136.99010075,\n",
       "       1601.52674073,  320.27240823,  764.3888551 ,  487.47094439,\n",
       "        528.78323837,  108.18306126,  315.0424555 ,  164.3487416 ,\n",
       "       1642.95935642,  207.8205355 ,  666.63747967,  156.75737367,\n",
       "       2065.07698367,  209.33798564,  875.01432406,  214.44050414,\n",
       "        509.8011671 ,  140.23215553,  258.84458853,  325.29127956,\n",
       "       1315.0452818 ,  205.26543949,  455.0741583 ,  160.00822393,\n",
       "       1718.18083777,  238.8319839 ,  607.2531357 ,  378.63389237,\n",
       "        329.73508895,  129.93243192,  286.8609968 ,  106.66561112,\n",
       "       1170.13897143,  197.27323624,  402.26992283,  172.33570563,\n",
       "       1393.20844926,  220.54005704,  582.46530851,  172.33570563,\n",
       "        411.29602533,  110.98329862,  193.64325886,  214.21519769,\n",
       "       1540.69882638,  132.35746906,  283.38072283,  157.53453117,\n",
       "       1845.32924059,  136.67515655,  370.35837058,  265.08411774,\n",
       "       1367.05852551,  512.14255705, 1386.22792649,  338.77336292,\n",
       "        121.33860003,  106.66561112,  184.68190026,  106.66561112,\n",
       "       1381.73151442,  512.14255705, 1464.24421563,  338.77336292,\n",
       "        632.34597956,  182.12268701,  929.89890013,  161.91659194,\n",
       "        212.82761607,  109.44301831,  147.84635364,  129.20561299,\n",
       "        738.50798451,  184.90009419,  971.07964265,  184.45659381,\n",
       "        694.81892829,  342.3178198 , 1126.13202616,  218.81788668,\n",
       "        112.9144968 ,  106.66561112,  108.50492762,  106.66561112,\n",
       "        701.06781397,  342.3178198 , 1127.97134266,  218.81788668,\n",
       "       1174.92601501,  286.63493901, 1071.37787959,  166.9377072 ,\n",
       "        303.12141896,  180.0838895 ,  210.46339594,  111.69140462,\n",
       "       1371.38182285,  360.05321739, 1175.1756644 ,  171.96350069,\n",
       "        452.38301286,  153.42568114,  529.57798683,  121.2508356 ,\n",
       "        896.70865774,  245.12765189,  268.0007499 ,  278.60718321,\n",
       "       1242.42605948,  291.88772191,  690.91312561,  293.19240769,\n",
       "        974.18582828,  256.61248085, 1541.00129906,  186.1162642 ,\n",
       "        122.72730362,  106.66561112,  139.96530598,  131.13213294,\n",
       "        990.24752078,  256.61248085, 1574.30099392,  210.58278602,\n",
       "        838.5296448 ,  190.05295128,  427.32347761,  318.08615126,\n",
       "       2470.87933206,  323.03334643,  470.92869628,  329.42052547,\n",
       "       3202.74336574,  406.42068658,  791.58656277,  540.8410656 ,\n",
       "       1720.61732529,  220.46464435,  844.16436982,  542.98353554,\n",
       "       3504.08946097,  381.65868484,  936.6423761 ,  497.80285464,\n",
       "       5118.04117514,  495.45771806, 1674.1411348 ,  934.12077906,\n",
       "        926.49516082,  144.32921481,  413.1016626 ,  237.29301592,\n",
       "       2329.91292466,  243.47621599,  698.29621707,  463.11033894,\n",
       "       3149.74247435,  281.13981968, 1004.73226854,  593.73774373,\n",
       "        320.96460623,  127.1228381 ,  340.3780165 ,  216.24295578,\n",
       "       2469.2518483 ,  259.14231239,  454.61474991,  527.8054779 ,\n",
       "       2683.55084341,  279.59953937,  688.32715529,  637.38282256,\n",
       "       1073.06075078,  150.01689297,  535.59932212,  219.13975304,\n",
       "       3417.54837127,  280.693885  ,  756.48909451,  371.36906903,\n",
       "       4383.94351093,  324.04516685, 1185.4228055 ,  483.84321095,\n",
       "        929.47185865,  238.68751971,  648.19397609,  340.56177986,\n",
       "       5857.69334235,  993.65500671, 1609.13629086,  735.72703114,\n",
       "       6680.49958988, 1125.6769153 , 2150.66465583,  969.62319988,\n",
       "       1035.58839361,  380.29112847,  828.38936177,  438.85976711,\n",
       "       2179.73475792,  412.7509755 ,  601.13299657,  314.52279109,\n",
       "       3108.6575404 ,  686.37649285, 1322.85674722,  646.71694708,\n",
       "        594.09796756,  147.01417933,  245.50996464,  203.33143639,\n",
       "       4243.57308199,  439.37680688,  689.2091072 ,  427.58976618,\n",
       "       4731.00543843,  479.72537508,  828.05346071,  524.25559144,\n",
       "        602.45002401,  152.49058573,  497.92804492,  363.37742676,\n",
       "       2897.70928104,  369.62424877,  577.41780681,  434.8276421 ,\n",
       "       3393.49369393,  415.44922338,  968.68024061,  691.53945774,\n",
       "        324.51785859,  134.46606941,  238.34637944,  237.20581247,\n",
       "       3439.51620565,  530.37796443,  405.76479247,  212.18276137,\n",
       "       3657.36845312,  558.17842271,  537.44556079,  342.72296272,\n",
       "        535.34612655,  111.83886409,  154.30707206,  218.75351341,\n",
       "       2396.47708204,  258.50437987,  400.47383238,  372.09120972,\n",
       "       2825.15759747,  263.67763283,  448.11529332,  484.17911201,\n",
       "       1120.750116  ,  216.91531888,  703.00257849,  427.67285238,\n",
       "       4438.55704962,  326.18576348,  705.52005829,  607.95488052,\n",
       "       5452.64155451,  436.43547123, 1301.85702566,  928.96212177,\n",
       "        641.70088068,  219.29656898,  650.24924258,  507.43601536,\n",
       "       4741.59483169,  734.89615907,  677.79220777,  438.55661368,\n",
       "       5276.63010125,  847.52711693, 1221.37583923,  839.32701791,\n",
       "        891.89321447,  232.77865234,  687.79813442,  441.76124261,\n",
       "       4446.10316817,  492.40859274,  859.1702645 ,  346.8334957 ,\n",
       "       5231.33077153,  618.52163396, 1440.3027878 ,  681.92912719])"
      ]
     },
     "execution_count": 26,
     "metadata": {},
     "output_type": "execute_result"
    }
   ],
   "source": [
    "result"
   ]
  },
  {
   "cell_type": "markdown",
   "id": "f6bb365f",
   "metadata": {},
   "source": [
    "#  Decision-Tree  Regression"
   ]
  },
  {
   "cell_type": "code",
   "execution_count": 27,
   "id": "46a9bbde",
   "metadata": {},
   "outputs": [
    {
     "data": {
      "text/plain": [
       "DecisionTreeRegressor(max_depth=4, min_samples_leaf=0.1, random_state=3)"
      ]
     },
     "execution_count": 27,
     "metadata": {},
     "output_type": "execute_result"
    }
   ],
   "source": [
    "from sklearn.tree import DecisionTreeRegressor\n",
    "Tree=DecisionTreeRegressor(max_depth=4,min_samples_leaf=0.1,random_state=3)\n",
    "Tree.fit(X,Y)\n",
    "\n"
   ]
  },
  {
   "cell_type": "code",
   "execution_count": 28,
   "id": "020ed522",
   "metadata": {},
   "outputs": [
    {
     "data": {
      "text/plain": [
       "array([ 745.94444444,   45.875     ,  300.71052632,  300.71052632,\n",
       "       3017.70689655,  465.68518519,  745.94444444,  177.375     ,\n",
       "       3017.70689655,  465.68518519, 1146.33333333,  300.71052632,\n",
       "       1146.33333333,   45.875     ,  465.68518519,  177.375     ,\n",
       "       3017.70689655,  465.68518519, 1146.33333333,  300.71052632,\n",
       "       3017.70689655,  465.68518519, 1146.33333333,  465.68518519,\n",
       "       3017.70689655,  745.94444444, 3017.70689655,  745.94444444,\n",
       "       1146.33333333,  177.375     ,  300.71052632,  177.375     ,\n",
       "       3017.70689655, 1146.33333333, 3017.70689655,  745.94444444,\n",
       "        177.375     ,   45.875     ,  177.375     ,   45.875     ,\n",
       "       3017.70689655,  177.375     ,  465.68518519,  177.375     ,\n",
       "       3017.70689655,  177.375     ,  465.68518519,  177.375     ,\n",
       "        465.68518519,   45.875     ,  177.375     ,  300.71052632,\n",
       "       3017.70689655,  177.375     ,  465.68518519,   45.875     ,\n",
       "       3017.70689655,  177.375     ,  745.94444444,  300.71052632,\n",
       "        465.68518519,   45.875     ,  177.375     ,   45.875     ,\n",
       "       3017.70689655,  177.375     ,  745.94444444,   45.875     ,\n",
       "       3017.70689655,  177.375     , 1146.33333333,  177.375     ,\n",
       "        465.68518519,   45.875     ,  177.375     ,  177.375     ,\n",
       "       1146.33333333,  177.375     ,  465.68518519,   45.875     ,\n",
       "       3017.70689655,  177.375     ,  465.68518519,  300.71052632,\n",
       "        465.68518519,   45.875     ,  177.375     ,   45.875     ,\n",
       "       1146.33333333,  177.375     ,  465.68518519,   45.875     ,\n",
       "       3017.70689655,  177.375     ,  465.68518519,   45.875     ,\n",
       "        465.68518519,   45.875     ,  177.375     ,  177.375     ,\n",
       "       3017.70689655,   45.875     ,  177.375     ,   45.875     ,\n",
       "       3017.70689655,   45.875     ,  465.68518519,  177.375     ,\n",
       "       3017.70689655,  465.68518519, 3017.70689655,  300.71052632,\n",
       "         45.875     ,   45.875     ,  177.375     ,   45.875     ,\n",
       "       3017.70689655,  465.68518519, 3017.70689655,  300.71052632,\n",
       "        745.94444444,  177.375     , 1146.33333333,   45.875     ,\n",
       "        177.375     ,   45.875     ,   45.875     ,   45.875     ,\n",
       "        745.94444444,  177.375     , 1146.33333333,  177.375     ,\n",
       "        745.94444444,  465.68518519, 1146.33333333,  177.375     ,\n",
       "         45.875     ,   45.875     ,   45.875     ,   45.875     ,\n",
       "        745.94444444,  465.68518519, 1146.33333333,  177.375     ,\n",
       "       1146.33333333,  177.375     , 1146.33333333,   45.875     ,\n",
       "        177.375     ,   45.875     ,  177.375     ,   45.875     ,\n",
       "       3017.70689655,  465.68518519, 1146.33333333,   45.875     ,\n",
       "        465.68518519,   45.875     ,  465.68518519,   45.875     ,\n",
       "       1146.33333333,  177.375     ,  177.375     ,  177.375     ,\n",
       "       1146.33333333,  177.375     ,  745.94444444,  177.375     ,\n",
       "       1146.33333333,  177.375     , 3017.70689655,  177.375     ,\n",
       "         45.875     ,   45.875     ,   45.875     ,   45.875     ,\n",
       "       1146.33333333,  177.375     , 3017.70689655,  177.375     ,\n",
       "       1146.33333333,  177.375     ,  300.71052632,  177.375     ,\n",
       "       3017.70689655,  465.68518519,  465.68518519,  300.71052632,\n",
       "       3017.70689655,  465.68518519,  745.94444444,  300.71052632,\n",
       "       3017.70689655,  177.375     , 1146.33333333,  300.71052632,\n",
       "       3017.70689655,  465.68518519, 1146.33333333,  300.71052632,\n",
       "       3017.70689655,  465.68518519, 3017.70689655, 1146.33333333,\n",
       "       1146.33333333,   45.875     ,  300.71052632,  177.375     ,\n",
       "       3017.70689655,  177.375     ,  745.94444444,  300.71052632,\n",
       "       3017.70689655,  177.375     , 1146.33333333,  300.71052632,\n",
       "        177.375     ,   45.875     ,  300.71052632,  177.375     ,\n",
       "       3017.70689655,  177.375     ,  465.68518519,  300.71052632,\n",
       "       3017.70689655,  177.375     ,  745.94444444,  745.94444444,\n",
       "       1146.33333333,   45.875     ,  300.71052632,  177.375     ,\n",
       "       3017.70689655,  177.375     ,  745.94444444,  300.71052632,\n",
       "       3017.70689655,  465.68518519, 1146.33333333,  300.71052632,\n",
       "       1146.33333333,  177.375     ,  745.94444444,  300.71052632,\n",
       "       3017.70689655, 1146.33333333, 3017.70689655,  745.94444444,\n",
       "       3017.70689655, 1146.33333333, 3017.70689655, 1146.33333333,\n",
       "       1146.33333333,  465.68518519,  745.94444444,  300.71052632,\n",
       "       3017.70689655,  465.68518519,  465.68518519,  177.375     ,\n",
       "       3017.70689655,  745.94444444, 1146.33333333,  745.94444444,\n",
       "        465.68518519,   45.875     ,  177.375     ,  177.375     ,\n",
       "       3017.70689655,  465.68518519,  745.94444444,  300.71052632,\n",
       "       3017.70689655,  465.68518519,  745.94444444,  300.71052632,\n",
       "        745.94444444,   45.875     ,  465.68518519,  300.71052632,\n",
       "       3017.70689655,  465.68518519,  465.68518519,  300.71052632,\n",
       "       3017.70689655,  465.68518519, 1146.33333333,  745.94444444,\n",
       "        465.68518519,   45.875     ,  177.375     ,  177.375     ,\n",
       "       3017.70689655,  465.68518519,  465.68518519,  177.375     ,\n",
       "       3017.70689655,  465.68518519,  465.68518519,  300.71052632,\n",
       "        465.68518519,   45.875     ,   45.875     ,  177.375     ,\n",
       "       3017.70689655,  177.375     ,  465.68518519,  300.71052632,\n",
       "       3017.70689655,  177.375     ,  465.68518519,  300.71052632,\n",
       "       1146.33333333,  177.375     ,  745.94444444,  300.71052632,\n",
       "       3017.70689655,  465.68518519,  745.94444444,  300.71052632,\n",
       "       3017.70689655,  465.68518519, 1146.33333333, 1146.33333333,\n",
       "        745.94444444,  177.375     ,  745.94444444,  300.71052632,\n",
       "       3017.70689655,  745.94444444,  745.94444444,  300.71052632,\n",
       "       3017.70689655, 1146.33333333, 1146.33333333,  745.94444444,\n",
       "       1146.33333333,  177.375     ,  745.94444444,  300.71052632,\n",
       "       3017.70689655,  465.68518519, 1146.33333333,  300.71052632,\n",
       "       3017.70689655,  745.94444444, 3017.70689655,  745.94444444])"
      ]
     },
     "execution_count": 28,
     "metadata": {},
     "output_type": "execute_result"
    }
   ],
   "source": [
    "Predict=Tree.predict(X)\n",
    "Predict"
   ]
  },
  {
   "cell_type": "markdown",
   "id": "9b24a236",
   "metadata": {},
   "source": [
    "# RandomForestRegressor"
   ]
  },
  {
   "cell_type": "code",
   "execution_count": 29,
   "id": "4469db3e",
   "metadata": {},
   "outputs": [
    {
     "name": "stderr",
     "output_type": "stream",
     "text": [
      "D:\\ProgramData\\anaconda3\\lib\\site-packages\\sklearn\\base.py:450: UserWarning: X does not have valid feature names, but RandomForestRegressor was fitted with feature names\n",
      "  warnings.warn(\n"
     ]
    },
    {
     "data": {
      "text/plain": [
       "array([162.6376636])"
      ]
     },
     "execution_count": 29,
     "metadata": {},
     "output_type": "execute_result"
    }
   ],
   "source": [
    "from sklearn.ensemble import RandomForestRegressor\n",
    " \n",
    "\n",
    "x= X.iloc [:, : -1] \n",
    "y= Y.iloc [:]\n",
    "regressor = RandomForestRegressor(n_estimators = 100, random_state = 0)\n",
    " \n",
    "regressor.fit(x, y) \n",
    "Y_pred = regressor.predict(np.array([6.5]).reshape(1, 1))\n",
    "Y_pred\n"
   ]
  },
  {
   "cell_type": "markdown",
   "id": "f4a33975",
   "metadata": {},
   "source": [
    "# SVM"
   ]
  },
  {
   "cell_type": "code",
   "execution_count": 30,
   "id": "488577f9",
   "metadata": {},
   "outputs": [
    {
     "data": {
      "text/plain": [
       "array([411.21533788, 371.36030404, 393.43013721, 388.3259062 ,\n",
       "       464.60776776, 390.03870037, 429.92038408, 374.49907217,\n",
       "       462.45416123, 392.76433503, 463.66261473, 396.32632819,\n",
       "       452.03695854, 372.37556766, 403.20904305, 376.25166924,\n",
       "       463.64677029, 391.49862214, 437.78892576, 389.48995983,\n",
       "       459.00693688, 396.14597464, 477.17513707, 400.41690152,\n",
       "       480.20200266, 416.18507312, 486.20580904, 414.25288392,\n",
       "       461.30801097, 378.60664407, 383.80741809, 376.26352303,\n",
       "       488.18759281, 432.7367668 , 493.43409986, 426.93193203,\n",
       "       379.03481173, 370.04220205, 375.34977606, 371.36948742,\n",
       "       494.59952393, 374.54553391, 388.79360737, 374.49175121,\n",
       "       494.98757955, 374.68976921, 398.21151205, 376.36474619,\n",
       "       385.5854553 , 372.58769326, 382.24938352, 393.92350486,\n",
       "       481.21941372, 378.82645742, 403.45572351, 371.31700922,\n",
       "       491.76623835, 382.79413462, 425.00548743, 396.70158787,\n",
       "       400.94060388, 370.00305531, 382.24225353, 372.68465404,\n",
       "       492.97723978, 375.19014054, 414.67739787, 372.29826993,\n",
       "       493.53297084, 375.28512879, 436.62960427, 375.49522067,\n",
       "       399.50137819, 371.49531027, 378.31145181, 382.97676631,\n",
       "       479.07848034, 375.13735767, 393.88617637, 372.46470161,\n",
       "       494.19558321, 377.22752248, 408.58094048, 387.1678715 ,\n",
       "       383.89231301, 371.00460553, 380.23697074, 369.93349411,\n",
       "       470.76835853, 374.62476002, 389.30515358, 373.11055055,\n",
       "       485.11199656, 376.0352771 , 406.14183784, 373.11055055,\n",
       "       390.52950208, 370.12505166, 374.28135135, 375.48178351,\n",
       "       491.68309561, 371.21904014, 380.03261232, 372.34261244,\n",
       "       495.02880798, 371.43023368, 386.59374106, 378.72041516,\n",
       "       480.89902074, 399.83003212, 480.7808294 , 384.04150195,\n",
       "       370.60786913, 369.93349411, 373.80092967, 369.93349411,\n",
       "       481.76600075, 399.83003212, 484.96772008, 384.04150195,\n",
       "       412.34978597, 373.78165984, 442.48581834, 372.57269078,\n",
       "       375.47042241, 370.06180476, 371.85497918, 370.9534024 ,\n",
       "       423.6054092 , 373.94582772, 446.65806635, 373.78848282,\n",
       "       419.24731921, 384.66387558, 461.24976852, 375.75776577,\n",
       "       370.20990855, 369.93349411, 370.01701485, 369.93349411,\n",
       "       419.91344307, 384.66387558, 461.41878255, 375.75776577,\n",
       "       467.47614866, 380.53174258, 456.31085629, 372.83455469,\n",
       "       381.90805154, 373.55346083, 375.27544823, 370.1560975 ,\n",
       "       481.52041391, 386.11355675, 465.46853248, 373.10543272,\n",
       "       394.46570813, 372.24124285, 400.93733673, 370.58295269,\n",
       "       442.19228241, 377.69712807, 379.02811518, 379.64484759,\n",
       "       473.79121154, 381.04895648, 417.48641416, 380.66980702,\n",
       "       448.81350958, 378.35871814, 488.16791453, 373.86503087,\n",
       "       370.67540477, 369.93349411, 371.47347586, 371.03927336,\n",
       "       450.44445295, 378.35871814, 489.42971505, 375.27162113,\n",
       "       433.51366303, 374.13091447, 391.31023647, 382.44671716,\n",
       "       484.27568302, 383.18074498, 395.35662074, 383.30134611,\n",
       "       470.275351  , 389.97784261, 427.87688672, 401.77724185,\n",
       "       493.37915503, 375.90189306, 433.24522336, 401.9584437 ,\n",
       "       467.56413492, 387.77792341, 442.94632084, 397.66419506,\n",
       "       459.26275275, 397.92765517, 492.30354274, 442.47491147,\n",
       "       442.54246005, 371.70413992, 390.09228061, 376.89664743,\n",
       "       488.26607805, 377.5369007 , 418.08582377, 394.47807741,\n",
       "       471.3604164 , 380.11389293, 449.88212128, 407.03159684,\n",
       "       383.05978015, 370.86508279, 384.15773788, 375.60298672,\n",
       "       484.30758643, 378.59412889, 393.8862588 , 400.51877873,\n",
       "       479.26009101, 380.01301607, 416.99458931, 411.46622041,\n",
       "       456.94970495, 371.97676476, 401.27857422, 375.77718151,\n",
       "       468.04652972, 380.08922012, 424.14234271, 386.59358496,\n",
       "       462.91073614, 383.27787473, 466.12274731, 396.38282616,\n",
       "       443.58245454, 377.07784626, 412.70181998, 384.15771129,\n",
       "       452.86937536, 449.78114054, 490.59792086, 421.74856895,\n",
       "       448.36440191, 462.14137599, 493.14385512, 446.11815841,\n",
       "       453.6785922 , 387.48394869, 431.71513886, 392.2876616 ,\n",
       "       491.43846727, 390.39339357, 407.95264719, 382.1971942 ,\n",
       "       471.884244  , 417.21419346, 476.48240722, 412.42617413,\n",
       "       407.78163973, 371.81832495, 377.43081452, 374.83626653,\n",
       "       463.37140485, 393.00980772, 416.98091622, 391.29337445,\n",
       "       461.14659193, 396.70911441, 431.65079846, 400.16066655,\n",
       "       408.85016623, 372.09619458, 397.78801874, 385.93784441,\n",
       "       474.26149695, 387.1090887 , 405.77577537, 391.97366137,\n",
       "       467.81322984, 390.99910746, 446.51091507, 417.11862114,\n",
       "       383.63487496, 371.21418214, 376.99214571, 376.90275243,\n",
       "       466.54224773, 402.54270135, 389.63215717, 375.35544679,\n",
       "       465.23111429, 405.32754462, 401.72470672, 384.33139086,\n",
       "       402.2455916 , 370.17876408, 372.20186224, 375.75388444,\n",
       "       484.78249303, 378.6437829 , 389.32454461, 386.67419682,\n",
       "       475.23749585, 379.02230414, 393.53460172, 396.43940515,\n",
       "       461.48835757, 375.7152559 , 418.32812899, 391.33261223,\n",
       "       462.18827603, 383.6566147 , 418.87212433, 408.44689976,\n",
       "       455.78475892, 392.89580125, 475.04226532, 441.99656886,\n",
       "       412.50702822, 375.82001768, 412.90438387, 398.58728957,\n",
       "       461.00654349, 422.94251952, 415.80888129, 392.29339225,\n",
       "       457.57528138, 434.88832879, 469.05248656, 432.71864205,\n",
       "       439.38698776, 376.68274993, 416.91045094, 392.5518167 ,\n",
       "       462.41432863, 398.07379249, 435.09425541, 384.63554626,\n",
       "       457.81261416, 410.63752798, 483.54817981, 416.07690507])"
      ]
     },
     "execution_count": 30,
     "metadata": {},
     "output_type": "execute_result"
    }
   ],
   "source": [
    "from sklearn.svm import SVR\n",
    "svm = SVR().fit(X, Y)\n",
    "svm\n",
    "\n",
    "result_value = svm.predict(X)\n",
    "result_value"
   ]
  },
  {
   "cell_type": "markdown",
   "id": "b2e15cea",
   "metadata": {},
   "source": [
    "# Confusion Matrix plot_confusion_matrix only supports classifiers So I am make an random data set"
   ]
  },
  {
   "cell_type": "code",
   "execution_count": 55,
   "id": "555bedd0",
   "metadata": {},
   "outputs": [
    {
     "name": "stderr",
     "output_type": "stream",
     "text": [
      "D:\\ProgramData\\anaconda3\\lib\\site-packages\\sklearn\\utils\\deprecation.py:87: FutureWarning: Function plot_confusion_matrix is deprecated; Function `plot_confusion_matrix` is deprecated in 1.0 and will be removed in 1.2. Use one of the class methods: ConfusionMatrixDisplay.from_predictions or ConfusionMatrixDisplay.from_estimator.\n",
      "  warnings.warn(msg, category=FutureWarning)\n"
     ]
    },
    {
     "data": {
      "image/png": "[encoded data removed]",
      "text/plain": [
       "<Figure size 432x288 with 2 Axes>"
      ]
     },
     "metadata": {
      "needs_background": "light"
     },
     "output_type": "display_data"
    }
   ],
   "source": [
    "\n",
    "from sklearn.datasets import make_classification\n",
    "from sklearn.metrics import plot_confusion_matrix\n",
    "from sklearn.model_selection import train_test_split\n",
    "from sklearn.svm import SVC\n",
    "X, y = make_classification(random_state=0)\n",
    "X_train, X_test, y_train, y_test = train_test_split(X, y, random_state=0)\n",
    "clf = SVC(random_state=0)\n",
    "clf.fit(X_train, y_train)\n",
    "SVC(random_state=0)\n",
    "plot_confusion_matrix(clf, X_test, y_test)  \n",
    "plt.show()"
   ]
  },
  {
   "cell_type": "markdown",
   "id": "c992961f",
   "metadata": {},
   "source": [
    "# ROC AUC"
   ]
  },
  {
   "cell_type": "markdown",
   "id": "da965f67",
   "metadata": {},
   "source": [
    "# An ROC curve shows the TPR as a function of FPR. Neither of these measures exists in the context of regression, so there is no such thing as ROC curves for regression."
   ]
  },
  {
   "cell_type": "markdown",
   "id": "d06b747b",
   "metadata": {},
   "source": [
    "# SVC AND LOGISTIC REGRESSION"
   ]
  },
  {
   "cell_type": "code",
   "execution_count": 60,
   "id": "ecca74b0",
   "metadata": {},
   "outputs": [],
   "source": [
    "from sklearn.metrics import roc_curve, auc\n",
    "from sklearn.svm import SVC\n",
    "from sklearn.linear_model import LogisticRegression\n",
    "model_logistic = LogisticRegression()\n",
    "model_logistic.fit(X_train, y_train)\n",
    "\n",
    "y_pred_logistic = model_logistic.decision_function(X_test)\n",
    "model_SVC = SVC(kernel = 'rbf', random_state = 4)\n",
    "model_SVC.fit(X_train, y_train)\n",
    "\n",
    "y_pred_svm = model_SVC.decision_function(X_test)\n"
   ]
  },
  {
   "cell_type": "code",
   "execution_count": 61,
   "id": "74eb5739",
   "metadata": {},
   "outputs": [
    {
     "data": {
      "image/png": "[encoded data removed]",
      "text/plain": [
       "<Figure size 500x500 with 1 Axes>"
      ]
     },
     "metadata": {
      "needs_background": "light"
     },
     "output_type": "display_data"
    }
   ],
   "source": [
    "logistic_fpr, logistic_tpr, threshold = roc_curve(y_test, y_pred_logistic)\n",
    "auc_logistic = auc(logistic_fpr, logistic_tpr)\n",
    "\n",
    "svm_fpr, svm_tpr, threshold = roc_curve(y_test, y_pred_svm)\n",
    "auc_svm = auc(svm_fpr, svm_tpr)\n",
    "\n",
    "plt.figure(figsize=(5, 5), dpi=100)\n",
    "plt.plot(svm_fpr, svm_tpr, linestyle='-', label='SVM (auc = %0.3f)' % auc_svm)\n",
    "plt.plot(logistic_fpr, logistic_tpr, marker='.', label='Logistic (auc = %0.3f)' % auc_logistic)\n",
    "\n",
    "plt.xlabel('False Positive Rate -->')\n",
    "plt.ylabel('True Positive Rate -->')\n",
    "\n",
    "plt.legend()\n",
    "\n",
    "plt.show()"
   ]
  }
 ],
 "metadata": {
  "kernelspec": {
   "display_name": "Python 3 (ipykernel)",
   "language": "python",
   "name": "python3"
  },
  "language_info": {
   "codemirror_mode": {
    "name": "ipython",
    "version": 3
   },
   "file_extension": ".py",
   "mimetype": "text/x-python",
   "name": "python",
   "nbconvert_exporter": "python",
   "pygments_lexer": "ipython3",
   "version": "3.9.12"
  }
 },
 "nbformat": 4,
 "nbformat_minor": 5
}
